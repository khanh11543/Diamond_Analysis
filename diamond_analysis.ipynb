# STEP 1: Import & Load Data
import pandas as pd
df = pd.read_csv("diamonds.csv")

# STEP 2: Data Preprocessing
df.dropna(inplace=True)
df = df[(df['x'] > 0) & (df['y'] > 0) & (df['z'] > 0)]

from sklearn.preprocessing import LabelEncoder
le_cut = LabelEncoder(); le_color = LabelEncoder(); le_clarity = LabelEncoder()
df['cut'] = le_cut.fit_transform(df['cut'])
df['color'] = le_color.fit_transform(df['color'])
df['clarity'] = le_clarity.fit_transform(df['clarity'])

# STEP 3: EDA & Visualization
import seaborn as sns
import matplotlib.pyplot as plt

sns.histplot(df['price'], kde=True)
plt.title("Price Distribution")
plt.show()

sns.scatterplot(data=df, x='carat', y='price')
plt.title("Carat vs Price")
plt.show()

sns.boxplot(x='cut', y='price', data=df)
plt.title("Price by Cut")
plt.show()

sns.heatmap(df.corr(), annot=True, cmap='coolwarm')
plt.title("Correlation Heatmap")
plt.show()

sns.countplot(x='clarity', data=df)
plt.title("Clarity Count")
plt.show()

# STEP 4: Modeling
from sklearn.linear_model import LinearRegression
from sklearn.model_selection import train_test_split
from sklearn.metrics import mean_squared_error, r2_score

X = df[['carat','depth','table','x','y','z','cut','color','clarity']]
y = df['price']

X_train, X_test, y_train, y_test = train_test_split(X, y, test_size=0.2, random_state=42)
model = LinearRegression()
model.fit(X_train, y_train)

y_pred = model.predict(X_test)

# STEP 5: Evaluation
mse = mean_squared_error(y_test, y_pred)
r2 = r2_score(y_test, y_pred)

print("MSE:", mse)
print("R2:", r2)

